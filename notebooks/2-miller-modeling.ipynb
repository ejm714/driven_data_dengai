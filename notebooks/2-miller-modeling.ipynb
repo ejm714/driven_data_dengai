{
 "cells": [
  {
   "cell_type": "markdown",
   "metadata": {},
   "source": [
    "## imports"
   ]
  },
  {
   "cell_type": "code",
   "execution_count": 26,
   "metadata": {},
   "outputs": [],
   "source": [
    "import pandas as pd\n",
    "import numpy as np\n",
    "import matplotlib.pyplot as plt\n",
    "import seaborn as sns\n",
    "import datetime\n",
    "import pickle\n",
    "\n",
    "from sklearn.ensemble import RandomForestRegressor\n",
    "from sklearn.model_selection import train_test_split\n",
    "from sklearn.metrics import mean_absolute_error\n",
    "\n",
    "%matplotlib inline"
   ]
  },
  {
   "cell_type": "code",
   "execution_count": 27,
   "metadata": {},
   "outputs": [
    {
     "name": "stdout",
     "output_type": "stream",
     "text": [
      "The autoreload extension is already loaded. To reload it, use:\n",
      "  %reload_ext autoreload\n"
     ]
    }
   ],
   "source": [
    "# Load the \"autoreload\" extension\n",
    "%load_ext autoreload\n",
    "\n",
    "# always reload modules marked with \"%aimport\"\n",
    "%autoreload 1\n",
    "\n",
    "import os\n",
    "import sys\n",
    "\n",
    "# add the 'src' directory as one where we can import modules\n",
    "src_dir = os.path.join(os.getcwd(), os.pardir, 'src')\n",
    "sys.path.append(src_dir)\n",
    "\n",
    "# import useful functions from the source code\n",
    "%aimport features.build_features\n",
    "from features.build_features import preprocess, create_features\n",
    "\n",
    "%aimport models.train_model\n",
    "from models.train_model import prep_x_and_y, rf_feature_importances_single, rf_feature_importances_by_city"
   ]
  },
  {
   "cell_type": "code",
   "execution_count": 29,
   "metadata": {},
   "outputs": [],
   "source": [
    "# this pre-processing was done in the previous jupyter notebook. \n",
    "# however this notebook can be run independently of that if this box is run\n",
    "\n",
    "df = preprocess('../data/raw/dengue_features_train.csv', '../data/raw/dengue_labels_train.csv')\n",
    "create_features(df)"
   ]
  },
  {
   "cell_type": "markdown",
   "metadata": {},
   "source": [
    "## load processed data"
   ]
  },
  {
   "cell_type": "code",
   "execution_count": 30,
   "metadata": {},
   "outputs": [],
   "source": [
    "df = pd.read_pickle('../data/processed/df.pkl')"
   ]
  },
  {
   "cell_type": "code",
   "execution_count": 31,
   "metadata": {},
   "outputs": [
    {
     "data": {
      "text/html": [
       "<div>\n",
       "<style scoped>\n",
       "    .dataframe tbody tr th:only-of-type {\n",
       "        vertical-align: middle;\n",
       "    }\n",
       "\n",
       "    .dataframe tbody tr th {\n",
       "        vertical-align: top;\n",
       "    }\n",
       "\n",
       "    .dataframe thead th {\n",
       "        text-align: right;\n",
       "    }\n",
       "</style>\n",
       "<table border=\"1\" class=\"dataframe\">\n",
       "  <thead>\n",
       "    <tr style=\"text-align: right;\">\n",
       "      <th></th>\n",
       "      <th>total_cases</th>\n",
       "      <th>ndvi_ne</th>\n",
       "      <th>ndvi_nw</th>\n",
       "      <th>ndvi_se</th>\n",
       "      <th>ndvi_sw</th>\n",
       "      <th>precipitation_amt_mm</th>\n",
       "      <th>reanalysis_air_temp_k</th>\n",
       "      <th>reanalysis_avg_temp_k</th>\n",
       "      <th>reanalysis_dew_point_temp_k</th>\n",
       "      <th>reanalysis_max_air_temp_k</th>\n",
       "      <th>...</th>\n",
       "      <th>reanalysis_tdtr_k</th>\n",
       "      <th>station_avg_temp_c</th>\n",
       "      <th>station_diur_temp_rng_c</th>\n",
       "      <th>station_max_temp_c</th>\n",
       "      <th>station_min_temp_c</th>\n",
       "      <th>station_precip_mm</th>\n",
       "      <th>sj</th>\n",
       "      <th>month</th>\n",
       "      <th>day</th>\n",
       "      <th>yr</th>\n",
       "    </tr>\n",
       "  </thead>\n",
       "  <tbody>\n",
       "    <tr>\n",
       "      <th>0</th>\n",
       "      <td>4</td>\n",
       "      <td>0.122600</td>\n",
       "      <td>0.103725</td>\n",
       "      <td>0.198483</td>\n",
       "      <td>0.177617</td>\n",
       "      <td>12.42</td>\n",
       "      <td>297.572857</td>\n",
       "      <td>297.742857</td>\n",
       "      <td>292.414286</td>\n",
       "      <td>299.8</td>\n",
       "      <td>...</td>\n",
       "      <td>2.628571</td>\n",
       "      <td>25.442857</td>\n",
       "      <td>6.900000</td>\n",
       "      <td>29.4</td>\n",
       "      <td>20.0</td>\n",
       "      <td>16.0</td>\n",
       "      <td>1</td>\n",
       "      <td>4</td>\n",
       "      <td>30</td>\n",
       "      <td>1990</td>\n",
       "    </tr>\n",
       "    <tr>\n",
       "      <th>1</th>\n",
       "      <td>5</td>\n",
       "      <td>0.169900</td>\n",
       "      <td>0.142175</td>\n",
       "      <td>0.162357</td>\n",
       "      <td>0.155486</td>\n",
       "      <td>22.82</td>\n",
       "      <td>298.211429</td>\n",
       "      <td>298.442857</td>\n",
       "      <td>293.951429</td>\n",
       "      <td>300.9</td>\n",
       "      <td>...</td>\n",
       "      <td>2.371429</td>\n",
       "      <td>26.714286</td>\n",
       "      <td>6.371429</td>\n",
       "      <td>31.7</td>\n",
       "      <td>22.2</td>\n",
       "      <td>8.6</td>\n",
       "      <td>1</td>\n",
       "      <td>5</td>\n",
       "      <td>7</td>\n",
       "      <td>1990</td>\n",
       "    </tr>\n",
       "    <tr>\n",
       "      <th>2</th>\n",
       "      <td>4</td>\n",
       "      <td>0.032250</td>\n",
       "      <td>0.172967</td>\n",
       "      <td>0.157200</td>\n",
       "      <td>0.170843</td>\n",
       "      <td>34.54</td>\n",
       "      <td>298.781429</td>\n",
       "      <td>298.878571</td>\n",
       "      <td>295.434286</td>\n",
       "      <td>300.5</td>\n",
       "      <td>...</td>\n",
       "      <td>2.300000</td>\n",
       "      <td>26.714286</td>\n",
       "      <td>6.485714</td>\n",
       "      <td>32.2</td>\n",
       "      <td>22.8</td>\n",
       "      <td>41.4</td>\n",
       "      <td>1</td>\n",
       "      <td>5</td>\n",
       "      <td>14</td>\n",
       "      <td>1990</td>\n",
       "    </tr>\n",
       "    <tr>\n",
       "      <th>3</th>\n",
       "      <td>3</td>\n",
       "      <td>0.128633</td>\n",
       "      <td>0.245067</td>\n",
       "      <td>0.227557</td>\n",
       "      <td>0.235886</td>\n",
       "      <td>15.36</td>\n",
       "      <td>298.987143</td>\n",
       "      <td>299.228571</td>\n",
       "      <td>295.310000</td>\n",
       "      <td>301.4</td>\n",
       "      <td>...</td>\n",
       "      <td>2.428571</td>\n",
       "      <td>27.471429</td>\n",
       "      <td>6.771429</td>\n",
       "      <td>33.3</td>\n",
       "      <td>23.3</td>\n",
       "      <td>4.0</td>\n",
       "      <td>1</td>\n",
       "      <td>5</td>\n",
       "      <td>21</td>\n",
       "      <td>1990</td>\n",
       "    </tr>\n",
       "    <tr>\n",
       "      <th>4</th>\n",
       "      <td>6</td>\n",
       "      <td>0.196200</td>\n",
       "      <td>0.262200</td>\n",
       "      <td>0.251200</td>\n",
       "      <td>0.247340</td>\n",
       "      <td>7.52</td>\n",
       "      <td>299.518571</td>\n",
       "      <td>299.664286</td>\n",
       "      <td>295.821429</td>\n",
       "      <td>301.9</td>\n",
       "      <td>...</td>\n",
       "      <td>3.014286</td>\n",
       "      <td>28.942857</td>\n",
       "      <td>9.371429</td>\n",
       "      <td>35.0</td>\n",
       "      <td>23.9</td>\n",
       "      <td>5.8</td>\n",
       "      <td>1</td>\n",
       "      <td>5</td>\n",
       "      <td>28</td>\n",
       "      <td>1990</td>\n",
       "    </tr>\n",
       "  </tbody>\n",
       "</table>\n",
       "<p>5 rows × 25 columns</p>\n",
       "</div>"
      ],
      "text/plain": [
       "   total_cases   ndvi_ne   ndvi_nw   ndvi_se   ndvi_sw  precipitation_amt_mm  \\\n",
       "0            4  0.122600  0.103725  0.198483  0.177617                 12.42   \n",
       "1            5  0.169900  0.142175  0.162357  0.155486                 22.82   \n",
       "2            4  0.032250  0.172967  0.157200  0.170843                 34.54   \n",
       "3            3  0.128633  0.245067  0.227557  0.235886                 15.36   \n",
       "4            6  0.196200  0.262200  0.251200  0.247340                  7.52   \n",
       "\n",
       "   reanalysis_air_temp_k  reanalysis_avg_temp_k  reanalysis_dew_point_temp_k  \\\n",
       "0             297.572857             297.742857                   292.414286   \n",
       "1             298.211429             298.442857                   293.951429   \n",
       "2             298.781429             298.878571                   295.434286   \n",
       "3             298.987143             299.228571                   295.310000   \n",
       "4             299.518571             299.664286                   295.821429   \n",
       "\n",
       "   reanalysis_max_air_temp_k  ...   reanalysis_tdtr_k  station_avg_temp_c  \\\n",
       "0                      299.8  ...            2.628571           25.442857   \n",
       "1                      300.9  ...            2.371429           26.714286   \n",
       "2                      300.5  ...            2.300000           26.714286   \n",
       "3                      301.4  ...            2.428571           27.471429   \n",
       "4                      301.9  ...            3.014286           28.942857   \n",
       "\n",
       "   station_diur_temp_rng_c  station_max_temp_c  station_min_temp_c  \\\n",
       "0                 6.900000                29.4                20.0   \n",
       "1                 6.371429                31.7                22.2   \n",
       "2                 6.485714                32.2                22.8   \n",
       "3                 6.771429                33.3                23.3   \n",
       "4                 9.371429                35.0                23.9   \n",
       "\n",
       "   station_precip_mm  sj  month  day    yr  \n",
       "0               16.0   1      4   30  1990  \n",
       "1                8.6   1      5    7  1990  \n",
       "2               41.4   1      5   14  1990  \n",
       "3                4.0   1      5   21  1990  \n",
       "4                5.8   1      5   28  1990  \n",
       "\n",
       "[5 rows x 25 columns]"
      ]
     },
     "execution_count": 31,
     "metadata": {},
     "output_type": "execute_result"
    }
   ],
   "source": [
    "df.head()"
   ]
  },
  {
   "cell_type": "code",
   "execution_count": null,
   "metadata": {},
   "outputs": [],
   "source": []
  },
  {
   "cell_type": "markdown",
   "metadata": {},
   "source": [
    "## out of the box random forest"
   ]
  },
  {
   "cell_type": "code",
   "execution_count": 38,
   "metadata": {},
   "outputs": [
    {
     "name": "stdout",
     "output_type": "stream",
     "text": [
      "Mean absolute error: 12.451029748283753\n",
      "\n",
      "('yr', 0.3019195672457625)\n",
      "('month', 0.16864541345805933)\n",
      "('ndvi_sw', 0.1539054367061644)\n",
      "('ndvi_se', 0.06517980644958862)\n",
      "('reanalysis_dew_point_temp_k', 0.03336748904108496)\n",
      "('reanalysis_max_air_temp_k', 0.029330379376337867)\n",
      "('ndvi_ne', 0.02678261148437624)\n",
      "('station_precip_mm', 0.02576430592437673)\n",
      "('reanalysis_specific_humidity_g_per_kg', 0.0229279979594759)\n",
      "('station_max_temp_c', 0.02264811892197686)\n",
      "('reanalysis_tdtr_k', 0.018484502272580826)\n",
      "('reanalysis_precip_amt_kg_per_m2', 0.015182510986956768)\n",
      "('ndvi_nw', 0.014896431702641566)\n",
      "('reanalysis_avg_temp_k', 0.013745539634023507)\n",
      "('station_diur_temp_rng_c', 0.013385514169657133)\n",
      "('station_avg_temp_c', 0.011442705334758883)\n",
      "('reanalysis_relative_humidity_percent', 0.011241568008444882)\n",
      "('day', 0.010539679708989844)\n",
      "('precipitation_amt_mm', 0.009611029781385923)\n",
      "('reanalysis_sat_precip_amt_mm', 0.008937337264711308)\n",
      "('reanalysis_min_air_temp_k', 0.008385082174884859)\n",
      "('reanalysis_air_temp_k', 0.007489362229496983)\n",
      "('station_min_temp_c', 0.006174796719556781)\n",
      "('sj', 1.2813444707255806e-05)\n"
     ]
    }
   ],
   "source": [
    "rf_feature_importances_single(df)"
   ]
  },
  {
   "cell_type": "code",
   "execution_count": 39,
   "metadata": {},
   "outputs": [],
   "source": [
    "# this looks very promising"
   ]
  },
  {
   "cell_type": "code",
   "execution_count": 40,
   "metadata": {},
   "outputs": [],
   "source": [
    "# do we need a random forest run on each city separately or will one random forest suffice?\n",
    "# features visualizations above indicate it could be helpful, but city is least helpful feature in above random forest."
   ]
  },
  {
   "cell_type": "code",
   "execution_count": 41,
   "metadata": {},
   "outputs": [
    {
     "name": "stdout",
     "output_type": "stream",
     "text": [
      "('yr', 0.4422239741268165)\n",
      "('month', 0.1510678452401952)\n",
      "('reanalysis_specific_humidity_g_per_kg', 0.05310457468735887)\n",
      "('station_max_temp_c', 0.039969404651466735)\n",
      "('reanalysis_precip_amt_kg_per_m2', 0.039031952061423174)\n",
      "('reanalysis_dew_point_temp_k', 0.03830532244637597)\n",
      "('ndvi_sw', 0.03817334833638768)\n",
      "('ndvi_se', 0.028179741148277048)\n",
      "('reanalysis_air_temp_k', 0.025425651462712483)\n",
      "('station_precip_mm', 0.02449236832660711)\n",
      "('ndvi_nw', 0.014915401433835218)\n",
      "('ndvi_ne', 0.014005563602289214)\n",
      "('reanalysis_avg_temp_k', 0.013500013336015632)\n",
      "('reanalysis_relative_humidity_percent', 0.013245067251172662)\n",
      "('station_diur_temp_rng_c', 0.012631285092022859)\n",
      "('reanalysis_max_air_temp_k', 0.012200428202558022)\n",
      "('reanalysis_tdtr_k', 0.011898737386048864)\n",
      "('reanalysis_min_air_temp_k', 0.0068945089327205195)\n",
      "('station_avg_temp_c', 0.005715218999119949)\n",
      "('station_min_temp_c', 0.004917278057227903)\n",
      "('reanalysis_sat_precip_amt_mm', 0.003925162494520797)\n",
      "('precipitation_amt_mm', 0.0034804297194798114)\n",
      "('day', 0.0026967230053676692)\n",
      "('sj', 0.0)\n",
      "\n",
      "('yr', 0.16797936497963317)\n",
      "('day', 0.13849642090350384)\n",
      "('month', 0.10078039440862467)\n",
      "('reanalysis_specific_humidity_g_per_kg', 0.08103920488916766)\n",
      "('ndvi_sw', 0.0639922524855018)\n",
      "('reanalysis_tdtr_k', 0.06154492402646845)\n",
      "('reanalysis_precip_amt_kg_per_m2', 0.05510634367346142)\n",
      "('reanalysis_avg_temp_k', 0.05219404162982503)\n",
      "('station_precip_mm', 0.03885268868138664)\n",
      "('reanalysis_relative_humidity_percent', 0.033739671029204)\n",
      "('station_diur_temp_rng_c', 0.029018148143866662)\n",
      "('station_min_temp_c', 0.027088613444011346)\n",
      "('reanalysis_max_air_temp_k', 0.026553310871974923)\n",
      "('station_avg_temp_c', 0.026443729799275763)\n",
      "('reanalysis_sat_precip_amt_mm', 0.020927212293822002)\n",
      "('station_max_temp_c', 0.013287531554570459)\n",
      "('reanalysis_dew_point_temp_k', 0.012010758666403647)\n",
      "('reanalysis_air_temp_k', 0.010985830573575767)\n",
      "('ndvi_se', 0.009937401939038111)\n",
      "('reanalysis_min_air_temp_k', 0.009205477355599493)\n",
      "('ndvi_nw', 0.00906463699037997)\n",
      "('ndvi_ne', 0.0059170905035958255)\n",
      "('precipitation_amt_mm', 0.005834951157109287)\n",
      "('sj', 0.0)\n",
      "\n",
      "Mean absolute error: 15.435697940503431\n"
     ]
    }
   ],
   "source": [
    "rf_feature_importances_by_city(df)"
   ]
  },
  {
   "cell_type": "code",
   "execution_count": 42,
   "metadata": {},
   "outputs": [],
   "source": [
    "# mean absolute error is worth with the individual models; will stick with one random forest for the entire df"
   ]
  },
  {
   "cell_type": "code",
   "execution_count": null,
   "metadata": {},
   "outputs": [],
   "source": []
  },
  {
   "cell_type": "markdown",
   "metadata": {},
   "source": [
    "## dictionary of models + grid search"
   ]
  },
  {
   "cell_type": "code",
   "execution_count": null,
   "metadata": {},
   "outputs": [],
   "source": []
  },
  {
   "cell_type": "markdown",
   "metadata": {},
   "source": [
    "## time series"
   ]
  },
  {
   "cell_type": "code",
   "execution_count": 264,
   "metadata": {},
   "outputs": [],
   "source": [
    "## month, day, and year continue to show up as promising vars in decision tree; let's try a time series analysis"
   ]
  },
  {
   "cell_type": "code",
   "execution_count": null,
   "metadata": {},
   "outputs": [],
   "source": []
  }
 ],
 "metadata": {
  "kernelspec": {
   "display_name": "Python 3",
   "language": "python",
   "name": "python3"
  },
  "language_info": {
   "codemirror_mode": {
    "name": "ipython",
    "version": 3
   },
   "file_extension": ".py",
   "mimetype": "text/x-python",
   "name": "python",
   "nbconvert_exporter": "python",
   "pygments_lexer": "ipython3",
   "version": "3.6.4"
  }
 },
 "nbformat": 4,
 "nbformat_minor": 2
}
