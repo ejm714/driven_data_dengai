{
 "cells": [
  {
   "cell_type": "markdown",
   "metadata": {},
   "source": [
    "# 2. model training"
   ]
  },
  {
   "cell_type": "markdown",
   "metadata": {},
   "source": [
    "## imports"
   ]
  },
  {
   "cell_type": "code",
   "execution_count": 522,
   "metadata": {},
   "outputs": [],
   "source": [
    "import pandas as pd\n",
    "import numpy as np\n",
    "import matplotlib.pyplot as plt\n",
    "import seaborn as sns\n",
    "import datetime\n",
    "import pickle\n",
    "from sklearn.externals import joblib\n",
    "\n",
    "from sklearn.ensemble import RandomForestRegressor, BaggingRegressor, AdaBoostRegressor, GradientBoostingRegressor\n",
    "from sklearn.tree import DecisionTreeRegressor, ExtraTreeRegressor\n",
    "from sklearn.model_selection import train_test_split, GridSearchCV\n",
    "from sklearn.metrics import mean_absolute_error, make_scorer\n",
    "\n",
    "%matplotlib inline"
   ]
  },
  {
   "cell_type": "code",
   "execution_count": 523,
   "metadata": {},
   "outputs": [
    {
     "name": "stdout",
     "output_type": "stream",
     "text": [
      "The autoreload extension is already loaded. To reload it, use:\n",
      "  %reload_ext autoreload\n"
     ]
    }
   ],
   "source": [
    "# Load the \"autoreload\" extension\n",
    "%load_ext autoreload\n",
    "\n",
    "# always reload modules marked with \"%aimport\"\n",
    "%autoreload 1\n",
    "\n",
    "import os\n",
    "import sys\n",
    "\n",
    "# add the 'src' directory as one where we can import modules\n",
    "src_dir = os.path.join(os.getcwd(), os.pardir, 'src')\n",
    "sys.path.append(src_dir)\n",
    "\n",
    "# import useful functions from the source code\n",
    "%aimport features.build_features\n",
    "from features.build_features import preprocess, create_features\n",
    "\n",
    "%aimport models.train_model\n",
    "from models.train_model import prep_x_and_y, rf_feature_importances_single, rf_feature_importances_by_city,\\\n",
    "run_tree_models,run_grid_search_rf, calculate_mae_for_train, fit_final_model, create_results_df"
   ]
  },
  {
   "cell_type": "markdown",
   "metadata": {},
   "source": [
    "## start with pre-processed data"
   ]
  },
  {
   "cell_type": "code",
   "execution_count": 528,
   "metadata": {},
   "outputs": [],
   "source": [
    "# same pre-processing as what was done in previous notebook\n",
    "df = preprocess('../data/raw/dengue_features_train.csv', '../data/raw/dengue_labels_train.csv')\n",
    "df = create_features(df, 'train')\n",
    "\n",
    "# alternately load\n",
    "# df = pd.read_pickle('../data/processed/train.pkl')"
   ]
  },
  {
   "cell_type": "code",
   "execution_count": 529,
   "metadata": {},
   "outputs": [
    {
     "data": {
      "text/html": [
       "<div>\n",
       "<style scoped>\n",
       "    .dataframe tbody tr th:only-of-type {\n",
       "        vertical-align: middle;\n",
       "    }\n",
       "\n",
       "    .dataframe tbody tr th {\n",
       "        vertical-align: top;\n",
       "    }\n",
       "\n",
       "    .dataframe thead th {\n",
       "        text-align: right;\n",
       "    }\n",
       "</style>\n",
       "<table border=\"1\" class=\"dataframe\">\n",
       "  <thead>\n",
       "    <tr style=\"text-align: right;\">\n",
       "      <th></th>\n",
       "      <th>total_cases</th>\n",
       "      <th>ndvi_ne</th>\n",
       "      <th>ndvi_nw</th>\n",
       "      <th>ndvi_se</th>\n",
       "      <th>ndvi_sw</th>\n",
       "      <th>precipitation_amt_mm</th>\n",
       "      <th>reanalysis_air_temp_k</th>\n",
       "      <th>reanalysis_avg_temp_k</th>\n",
       "      <th>reanalysis_dew_point_temp_k</th>\n",
       "      <th>reanalysis_max_air_temp_k</th>\n",
       "      <th>...</th>\n",
       "      <th>reanalysis_tdtr_k</th>\n",
       "      <th>station_avg_temp_c</th>\n",
       "      <th>station_diur_temp_rng_c</th>\n",
       "      <th>station_max_temp_c</th>\n",
       "      <th>station_min_temp_c</th>\n",
       "      <th>station_precip_mm</th>\n",
       "      <th>sj</th>\n",
       "      <th>month</th>\n",
       "      <th>day</th>\n",
       "      <th>yr</th>\n",
       "    </tr>\n",
       "  </thead>\n",
       "  <tbody>\n",
       "    <tr>\n",
       "      <th>0</th>\n",
       "      <td>4</td>\n",
       "      <td>0.122600</td>\n",
       "      <td>0.103725</td>\n",
       "      <td>0.198483</td>\n",
       "      <td>0.177617</td>\n",
       "      <td>12.42</td>\n",
       "      <td>297.572857</td>\n",
       "      <td>297.742857</td>\n",
       "      <td>292.414286</td>\n",
       "      <td>299.8</td>\n",
       "      <td>...</td>\n",
       "      <td>2.628571</td>\n",
       "      <td>25.442857</td>\n",
       "      <td>6.900000</td>\n",
       "      <td>29.4</td>\n",
       "      <td>20.0</td>\n",
       "      <td>16.0</td>\n",
       "      <td>1</td>\n",
       "      <td>4</td>\n",
       "      <td>30</td>\n",
       "      <td>1990</td>\n",
       "    </tr>\n",
       "    <tr>\n",
       "      <th>1</th>\n",
       "      <td>5</td>\n",
       "      <td>0.169900</td>\n",
       "      <td>0.142175</td>\n",
       "      <td>0.162357</td>\n",
       "      <td>0.155486</td>\n",
       "      <td>22.82</td>\n",
       "      <td>298.211429</td>\n",
       "      <td>298.442857</td>\n",
       "      <td>293.951429</td>\n",
       "      <td>300.9</td>\n",
       "      <td>...</td>\n",
       "      <td>2.371429</td>\n",
       "      <td>26.714286</td>\n",
       "      <td>6.371429</td>\n",
       "      <td>31.7</td>\n",
       "      <td>22.2</td>\n",
       "      <td>8.6</td>\n",
       "      <td>1</td>\n",
       "      <td>5</td>\n",
       "      <td>7</td>\n",
       "      <td>1990</td>\n",
       "    </tr>\n",
       "    <tr>\n",
       "      <th>2</th>\n",
       "      <td>4</td>\n",
       "      <td>0.032250</td>\n",
       "      <td>0.172967</td>\n",
       "      <td>0.157200</td>\n",
       "      <td>0.170843</td>\n",
       "      <td>34.54</td>\n",
       "      <td>298.781429</td>\n",
       "      <td>298.878571</td>\n",
       "      <td>295.434286</td>\n",
       "      <td>300.5</td>\n",
       "      <td>...</td>\n",
       "      <td>2.300000</td>\n",
       "      <td>26.714286</td>\n",
       "      <td>6.485714</td>\n",
       "      <td>32.2</td>\n",
       "      <td>22.8</td>\n",
       "      <td>41.4</td>\n",
       "      <td>1</td>\n",
       "      <td>5</td>\n",
       "      <td>14</td>\n",
       "      <td>1990</td>\n",
       "    </tr>\n",
       "    <tr>\n",
       "      <th>3</th>\n",
       "      <td>3</td>\n",
       "      <td>0.128633</td>\n",
       "      <td>0.245067</td>\n",
       "      <td>0.227557</td>\n",
       "      <td>0.235886</td>\n",
       "      <td>15.36</td>\n",
       "      <td>298.987143</td>\n",
       "      <td>299.228571</td>\n",
       "      <td>295.310000</td>\n",
       "      <td>301.4</td>\n",
       "      <td>...</td>\n",
       "      <td>2.428571</td>\n",
       "      <td>27.471429</td>\n",
       "      <td>6.771429</td>\n",
       "      <td>33.3</td>\n",
       "      <td>23.3</td>\n",
       "      <td>4.0</td>\n",
       "      <td>1</td>\n",
       "      <td>5</td>\n",
       "      <td>21</td>\n",
       "      <td>1990</td>\n",
       "    </tr>\n",
       "    <tr>\n",
       "      <th>4</th>\n",
       "      <td>6</td>\n",
       "      <td>0.196200</td>\n",
       "      <td>0.262200</td>\n",
       "      <td>0.251200</td>\n",
       "      <td>0.247340</td>\n",
       "      <td>7.52</td>\n",
       "      <td>299.518571</td>\n",
       "      <td>299.664286</td>\n",
       "      <td>295.821429</td>\n",
       "      <td>301.9</td>\n",
       "      <td>...</td>\n",
       "      <td>3.014286</td>\n",
       "      <td>28.942857</td>\n",
       "      <td>9.371429</td>\n",
       "      <td>35.0</td>\n",
       "      <td>23.9</td>\n",
       "      <td>5.8</td>\n",
       "      <td>1</td>\n",
       "      <td>5</td>\n",
       "      <td>28</td>\n",
       "      <td>1990</td>\n",
       "    </tr>\n",
       "  </tbody>\n",
       "</table>\n",
       "<p>5 rows × 25 columns</p>\n",
       "</div>"
      ],
      "text/plain": [
       "   total_cases   ndvi_ne   ndvi_nw   ndvi_se   ndvi_sw  precipitation_amt_mm  \\\n",
       "0            4  0.122600  0.103725  0.198483  0.177617                 12.42   \n",
       "1            5  0.169900  0.142175  0.162357  0.155486                 22.82   \n",
       "2            4  0.032250  0.172967  0.157200  0.170843                 34.54   \n",
       "3            3  0.128633  0.245067  0.227557  0.235886                 15.36   \n",
       "4            6  0.196200  0.262200  0.251200  0.247340                  7.52   \n",
       "\n",
       "   reanalysis_air_temp_k  reanalysis_avg_temp_k  reanalysis_dew_point_temp_k  \\\n",
       "0             297.572857             297.742857                   292.414286   \n",
       "1             298.211429             298.442857                   293.951429   \n",
       "2             298.781429             298.878571                   295.434286   \n",
       "3             298.987143             299.228571                   295.310000   \n",
       "4             299.518571             299.664286                   295.821429   \n",
       "\n",
       "   reanalysis_max_air_temp_k  ...   reanalysis_tdtr_k  station_avg_temp_c  \\\n",
       "0                      299.8  ...            2.628571           25.442857   \n",
       "1                      300.9  ...            2.371429           26.714286   \n",
       "2                      300.5  ...            2.300000           26.714286   \n",
       "3                      301.4  ...            2.428571           27.471429   \n",
       "4                      301.9  ...            3.014286           28.942857   \n",
       "\n",
       "   station_diur_temp_rng_c  station_max_temp_c  station_min_temp_c  \\\n",
       "0                 6.900000                29.4                20.0   \n",
       "1                 6.371429                31.7                22.2   \n",
       "2                 6.485714                32.2                22.8   \n",
       "3                 6.771429                33.3                23.3   \n",
       "4                 9.371429                35.0                23.9   \n",
       "\n",
       "   station_precip_mm  sj  month  day    yr  \n",
       "0               16.0   1      4   30  1990  \n",
       "1                8.6   1      5    7  1990  \n",
       "2               41.4   1      5   14  1990  \n",
       "3                4.0   1      5   21  1990  \n",
       "4                5.8   1      5   28  1990  \n",
       "\n",
       "[5 rows x 25 columns]"
      ]
     },
     "execution_count": 529,
     "metadata": {},
     "output_type": "execute_result"
    }
   ],
   "source": [
    "df.head()"
   ]
  },
  {
   "cell_type": "markdown",
   "metadata": {},
   "source": [
    "## out of the box random forest"
   ]
  },
  {
   "cell_type": "code",
   "execution_count": 484,
   "metadata": {},
   "outputs": [
    {
     "name": "stdout",
     "output_type": "stream",
     "text": [
      "Mean absolute error: 12.035469107551487\n",
      "\n",
      "('ndvi_sw', 0.2344468165755061)\n",
      "('yr', 0.21213822730473159)\n",
      "('month', 0.16177410838287148)\n",
      "('ndvi_se', 0.08336176730500672)\n",
      "('reanalysis_dew_point_temp_k', 0.040951122709522204)\n",
      "('reanalysis_specific_humidity_g_per_kg', 0.03444400968204927)\n",
      "('ndvi_ne', 0.03154361892167858)\n",
      "('station_max_temp_c', 0.025258690536905715)\n",
      "('reanalysis_relative_humidity_percent', 0.020922270503654826)\n",
      "('ndvi_nw', 0.019545944642378847)\n",
      "('reanalysis_precip_amt_kg_per_m2', 0.019318949184547775)\n",
      "('reanalysis_max_air_temp_k', 0.01572609579904729)\n",
      "('reanalysis_tdtr_k', 0.013272353621693798)\n",
      "('station_min_temp_c', 0.011521960419505924)\n",
      "('day', 0.011381650452390013)\n",
      "('reanalysis_min_air_temp_k', 0.011010938083126805)\n",
      "('reanalysis_air_temp_k', 0.010206056533964121)\n",
      "('reanalysis_avg_temp_k', 0.009950400463917323)\n",
      "('station_avg_temp_c', 0.009053540575555222)\n",
      "('station_diur_temp_rng_c', 0.008878592855638084)\n",
      "('station_precip_mm', 0.007748834943201746)\n",
      "('precipitation_amt_mm', 0.00587376577158719)\n",
      "('reanalysis_sat_precip_amt_mm', 0.0016701443122628453)\n",
      "('sj', 1.4041925661882531e-07)\n"
     ]
    }
   ],
   "source": [
    "rf_feature_importances_single(df)"
   ]
  },
  {
   "cell_type": "code",
   "execution_count": 485,
   "metadata": {},
   "outputs": [],
   "source": [
    "# this looks very promising for a decision tree approach"
   ]
  },
  {
   "cell_type": "code",
   "execution_count": 486,
   "metadata": {},
   "outputs": [],
   "source": [
    "# do we need a random forest run on each city separately or will one random forest suffice?\n",
    "# features visualizations in previous file indicate it could be helpful..\n",
    "# but city is least helpful feature in above random forest."
   ]
  },
  {
   "cell_type": "markdown",
   "metadata": {},
   "source": [
    "### random forest models trained independently on each city"
   ]
  },
  {
   "cell_type": "code",
   "execution_count": 487,
   "metadata": {},
   "outputs": [
    {
     "name": "stdout",
     "output_type": "stream",
     "text": [
      "('yr', 0.4244495497061722)\n",
      "('month', 0.14773950753988532)\n",
      "('reanalysis_dew_point_temp_k', 0.04988473540111973)\n",
      "('station_max_temp_c', 0.04201170580498172)\n",
      "('reanalysis_max_air_temp_k', 0.03369766081967256)\n",
      "('reanalysis_specific_humidity_g_per_kg', 0.032734313777597016)\n",
      "('ndvi_se', 0.03257764834094254)\n",
      "('ndvi_sw', 0.02678391216508393)\n",
      "('ndvi_nw', 0.025799747128983898)\n",
      "('reanalysis_tdtr_k', 0.02505504643738906)\n",
      "('station_avg_temp_c', 0.02463402943947253)\n",
      "('reanalysis_precip_amt_kg_per_m2', 0.020368507551714)\n",
      "('reanalysis_relative_humidity_percent', 0.016735889490044953)\n",
      "('reanalysis_avg_temp_k', 0.015748570646300537)\n",
      "('ndvi_ne', 0.012794331646724841)\n",
      "('station_min_temp_c', 0.011390837221215106)\n",
      "('precipitation_amt_mm', 0.01071449878234)\n",
      "('station_diur_temp_rng_c', 0.010619498419570555)\n",
      "('reanalysis_air_temp_k', 0.009689483853843803)\n",
      "('reanalysis_sat_precip_amt_mm', 0.009587006086017234)\n",
      "('station_precip_mm', 0.006899134670286825)\n",
      "('day', 0.0050911343828969995)\n",
      "('reanalysis_min_air_temp_k', 0.004993250687744615)\n",
      "('sj', 0.0)\n",
      "\n",
      "('yr', 0.2568063517458329)\n",
      "('month', 0.11692380764379524)\n",
      "('reanalysis_avg_temp_k', 0.08005299529343693)\n",
      "('station_precip_mm', 0.07191504277177477)\n",
      "('ndvi_nw', 0.06795299308189581)\n",
      "('reanalysis_max_air_temp_k', 0.05160332511469268)\n",
      "('station_min_temp_c', 0.04392266746332034)\n",
      "('reanalysis_dew_point_temp_k', 0.031612880662008916)\n",
      "('reanalysis_specific_humidity_g_per_kg', 0.030487513133913374)\n",
      "('day', 0.02731175094160592)\n",
      "('reanalysis_tdtr_k', 0.02611743130785013)\n",
      "('precipitation_amt_mm', 0.02505836028667203)\n",
      "('reanalysis_min_air_temp_k', 0.024724179027776287)\n",
      "('station_max_temp_c', 0.02404819870633785)\n",
      "('ndvi_ne', 0.018673223387082695)\n",
      "('ndvi_se', 0.01489365149388872)\n",
      "('reanalysis_sat_precip_amt_mm', 0.013939802498056663)\n",
      "('station_avg_temp_c', 0.01322179398047082)\n",
      "('reanalysis_air_temp_k', 0.01276650108725399)\n",
      "('reanalysis_relative_humidity_percent', 0.012303049118119405)\n",
      "('reanalysis_precip_amt_kg_per_m2', 0.012232570041010613)\n",
      "('station_diur_temp_rng_c', 0.011936018485608994)\n",
      "('ndvi_sw', 0.011495892727594865)\n",
      "('sj', 0.0)\n",
      "\n",
      "Mean absolute error: 14.057437070938215\n"
     ]
    }
   ],
   "source": [
    "rf_feature_importances_by_city(df)"
   ]
  },
  {
   "cell_type": "code",
   "execution_count": 488,
   "metadata": {},
   "outputs": [],
   "source": [
    "# mean absolute error is higher with the individual models; will stick with one random forest for the entire df\n",
    "### note: this assumption later turns out to be wrong and separate models are created"
   ]
  },
  {
   "cell_type": "markdown",
   "metadata": {},
   "source": [
    "## cycling through a dictionary of tree models"
   ]
  },
  {
   "cell_type": "code",
   "execution_count": 489,
   "metadata": {},
   "outputs": [],
   "source": [
    "# let's see if other tree models perform better than random forest"
   ]
  },
  {
   "cell_type": "code",
   "execution_count": 490,
   "metadata": {},
   "outputs": [],
   "source": [
    "X, y, X_train, X_test, y_train, y_test = prep_x_and_y(df)"
   ]
  },
  {
   "cell_type": "code",
   "execution_count": 491,
   "metadata": {},
   "outputs": [
    {
     "name": "stdout",
     "output_type": "stream",
     "text": [
      "Model: dt\n",
      "Mean absolute error: 13.153318077803204\n",
      "\n",
      "Model: extratrees\n",
      "Mean absolute error: 16.704805491990847\n",
      "\n",
      "Model: randomForest\n",
      "Mean absolute error: 11.814187643020595\n",
      "\n",
      "Model: bagged_randomForest\n",
      "Mean absolute error: 11.76803203661327\n",
      "\n",
      "Model: adaboostedTrees\n",
      "Mean absolute error: 27.200086137571752\n",
      "\n",
      "Model: gradboostedTrees\n",
      "Mean absolute error: 12.042629578515914\n",
      "\n"
     ]
    }
   ],
   "source": [
    "run_tree_models(X_train, X_test, y_train, y_test)"
   ]
  },
  {
   "cell_type": "code",
   "execution_count": 396,
   "metadata": {},
   "outputs": [],
   "source": [
    "# top three are random forest, bagged RF, and gradient boosted trees\n",
    "# for simplicity and speed of training, let's stick with random forest"
   ]
  },
  {
   "cell_type": "markdown",
   "metadata": {},
   "source": [
    "## setting hyperparameters (grid search)"
   ]
  },
  {
   "cell_type": "code",
   "execution_count": 492,
   "metadata": {},
   "outputs": [
    {
     "name": "stdout",
     "output_type": "stream",
     "text": [
      "Fitting 3 folds for each of 240 candidates, totalling 720 fits\n"
     ]
    },
    {
     "name": "stderr",
     "output_type": "stream",
     "text": [
      "[Parallel(n_jobs=2)]: Done 256 tasks      | elapsed:   15.1s\n",
      "[Parallel(n_jobs=2)]: Done 464 tasks      | elapsed:   46.4s\n",
      "[Parallel(n_jobs=2)]: Done 714 tasks      | elapsed:  1.6min\n"
     ]
    },
    {
     "name": "stdout",
     "output_type": "stream",
     "text": [
      "Best Score: 23.938\n",
      "Optimal Parameters:  {'max_depth': 10, 'min_samples_leaf': 1, 'min_samples_split': 2, 'n_estimators': 10}\n"
     ]
    },
    {
     "name": "stderr",
     "output_type": "stream",
     "text": [
      "[Parallel(n_jobs=2)]: Done 720 out of 720 | elapsed:  1.7min finished\n"
     ]
    }
   ],
   "source": [
    "rf = RandomForestRegressor(random_state=42)\n",
    "\n",
    "params = {'n_estimators': [10, 20, 50, 100], 'min_samples_split': [2, 5, 10, 20], \\\n",
    "          'min_samples_leaf': [1, 2, 10], 'max_depth': [1, 2, 5, 10, 50]}\n",
    "\n",
    "# cross validated grid search so using entire X and y rather than train/test\n",
    "grid_dict = GridSearchCV(rf, params, verbose = 1, scoring = make_scorer(mean_absolute_error), n_jobs = 2)\n",
    "train_fit = grid_dict.fit(X, y)\n",
    "print('Best Score: %0.3f' % train_fit.best_score_)\n",
    "print('Optimal Parameters: ', train_fit.best_params_)"
   ]
  },
  {
   "cell_type": "markdown",
   "metadata": {},
   "source": [
    "## visualize predictions of best model"
   ]
  },
  {
   "cell_type": "code",
   "execution_count": 493,
   "metadata": {},
   "outputs": [
    {
     "name": "stdout",
     "output_type": "stream",
     "text": [
      "Mean absolute error: 12.38491512740231\n"
     ]
    }
   ],
   "source": [
    "final_model = RandomForestRegressor(**train_fit.best_params_)\n",
    "final_model.fit(X_train, y_train)\n",
    "y_pred = final_model.predict(X_test)\n",
    "print(\"Mean absolute error: \" + str(mean_absolute_error(y_test, y_pred)))"
   ]
  },
  {
   "cell_type": "code",
   "execution_count": 494,
   "metadata": {},
   "outputs": [
    {
     "name": "stdout",
     "output_type": "stream",
     "text": [
      "Mean absolute error: 6.392506360403424\n"
     ]
    }
   ],
   "source": [
    "# refit on entire data\n",
    "fitted_model = final_model.fit(X, y)\n",
    "y_pred = fitted_model.predict(X)\n",
    "print(\"Mean absolute error: \" + str(mean_absolute_error(y, y_pred)))"
   ]
  },
  {
   "cell_type": "code",
   "execution_count": 495,
   "metadata": {},
   "outputs": [],
   "source": [
    "# set up results dataframe\n",
    "results_df = df[['total_cases', 'sj']]"
   ]
  },
  {
   "cell_type": "code",
   "execution_count": 498,
   "metadata": {},
   "outputs": [
    {
     "name": "stderr",
     "output_type": "stream",
     "text": [
      "/Users/braeburn/.virtualenvs/dengai-env/lib/python3.6/site-packages/ipykernel_launcher.py:2: SettingWithCopyWarning: \n",
      "A value is trying to be set on a copy of a slice from a DataFrame.\n",
      "Try using .loc[row_indexer,col_indexer] = value instead\n",
      "\n",
      "See the caveats in the documentation: http://pandas.pydata.org/pandas-docs/stable/indexing.html#indexing-view-versus-copy\n",
      "  \n"
     ]
    }
   ],
   "source": [
    "# predict\n",
    "results_df['predictions'] = fitted_model.predict(X)"
   ]
  },
  {
   "cell_type": "code",
   "execution_count": 499,
   "metadata": {},
   "outputs": [
    {
     "data": {
      "text/plain": [
       "<matplotlib.axes._subplots.AxesSubplot at 0x11a381748>"
      ]
     },
     "execution_count": 499,
     "metadata": {},
     "output_type": "execute_result"
    },
    {
     "data": {
      "image/png": "[encoded data removed]",
      "text/plain": [
       "<matplotlib.figure.Figure at 0x11a56c438>"
      ]
     },
     "metadata": {},
     "output_type": "display_data"
    }
   ],
   "source": [
    "# plot predictions\n",
    "results_df.predictions.plot(label=\"Predictions\")\n",
    "results_df.total_cases.plot(label=\"Actual\")"
   ]
  },
  {
   "cell_type": "code",
   "execution_count": 500,
   "metadata": {},
   "outputs": [],
   "source": [
    "# this is hard to tell where the model is doing well and where it's doing poorly\n",
    "# let's separate by city to get a better view"
   ]
  },
  {
   "cell_type": "code",
   "execution_count": 501,
   "metadata": {},
   "outputs": [
    {
     "data": {
      "image/png": "[encoded data removed]",
      "text/plain": [
       "<matplotlib.figure.Figure at 0x11a347e10>"
      ]
     },
     "metadata": {},
     "output_type": "display_data"
    }
   ],
   "source": [
    "# for IQ\n",
    "results_df[results_df.sj==0].predictions.plot(label=\"Predictions\", legend= True)\n",
    "results_df[results_df.sj==0].total_cases.plot(label=\"Actual\", legend = True)\n",
    "plt.title('Iquitos');"
   ]
  },
  {
   "cell_type": "code",
   "execution_count": 502,
   "metadata": {},
   "outputs": [
    {
     "data": {
      "image/png": "[encoded data removed]",
      "text/plain": [
       "<matplotlib.figure.Figure at 0x11a6b3e10>"
      ]
     },
     "metadata": {},
     "output_type": "display_data"
    }
   ],
   "source": [
    "# for SJ\n",
    "results_df[results_df.sj==1].predictions.plot(label=\"Predictions\")\n",
    "results_df[results_df.sj==1].total_cases.plot(label=\"Actual\")\n",
    "plt.title('San Juan');"
   ]
  },
  {
   "cell_type": "code",
   "execution_count": 503,
   "metadata": {},
   "outputs": [],
   "source": [
    "# so this model seems to be doing pretty well for SJ but not very well for IQ\n",
    "# let's revisit the idea of having a model by city"
   ]
  },
  {
   "cell_type": "markdown",
   "metadata": {},
   "source": [
    "## re-doing above analysis for Iquitos"
   ]
  },
  {
   "cell_type": "code",
   "execution_count": 504,
   "metadata": {},
   "outputs": [
    {
     "name": "stdout",
     "output_type": "stream",
     "text": [
      "Fitting 3 folds for each of 240 candidates, totalling 720 fits\n"
     ]
    },
    {
     "name": "stderr",
     "output_type": "stream",
     "text": [
      "[Parallel(n_jobs=2)]: Done 256 tasks      | elapsed:    9.9s\n",
      "[Parallel(n_jobs=2)]: Done 720 out of 720 | elapsed:   42.8s finished\n"
     ]
    },
    {
     "name": "stdout",
     "output_type": "stream",
     "text": [
      "Best Score: 7.994\n",
      "Optimal Parameters:  {'max_depth': 50, 'min_samples_leaf': 1, 'min_samples_split': 2, 'n_estimators': 20}\n"
     ]
    }
   ],
   "source": [
    "# running this time with functions for simplicity\n",
    "# set df.sj==0 to select Iquitos\n",
    "X, y, X_train, X_test, y_train, y_test = prep_x_and_y(df[df.sj==0])\n",
    "\n",
    "iq_best_params = run_grid_search_rf(X, y, X_train, X_test, y_train, y_test)"
   ]
  },
  {
   "cell_type": "code",
   "execution_count": 505,
   "metadata": {},
   "outputs": [
    {
     "name": "stdout",
     "output_type": "stream",
     "text": [
      "Mean absolute error: 7.967307692307691\n"
     ]
    }
   ],
   "source": [
    "# calculate mean absolute error\n",
    "calculate_mae_for_train(iq_best_params, X_train, X_test, y_train, y_test)"
   ]
  },
  {
   "cell_type": "code",
   "execution_count": 506,
   "metadata": {},
   "outputs": [
    {
     "name": "stdout",
     "output_type": "stream",
     "text": [
      "Mean absolute error: 2.2525000000000004\n"
     ]
    }
   ],
   "source": [
    "# save model\n",
    "# this function also prints mean absolute error for when the model is trained on the entire dataset\n",
    "iq_model = fit_final_model(iq_best_params, X, y)"
   ]
  },
  {
   "cell_type": "code",
   "execution_count": 507,
   "metadata": {},
   "outputs": [
    {
     "name": "stderr",
     "output_type": "stream",
     "text": [
      "/Users/braeburn/ds/metis/metisgh/driven_data_dengai/notebooks/../src/models/train_model.py:121: SettingWithCopyWarning: \n",
      "A value is trying to be set on a copy of a slice from a DataFrame.\n",
      "Try using .loc[row_indexer,col_indexer] = value instead\n",
      "\n",
      "See the caveats in the documentation: http://pandas.pydata.org/pandas-docs/stable/indexing.html#indexing-view-versus-copy\n",
      "  return fitted_model\n"
     ]
    }
   ],
   "source": [
    "# generate predictions so we can plot\n",
    "results_iq = create_results_df(iq_model, df[df.sj==0], X)"
   ]
  },
  {
   "cell_type": "code",
   "execution_count": 508,
   "metadata": {},
   "outputs": [
    {
     "data": {
      "image/png": "[encoded data removed]",
      "text/plain": [
       "<matplotlib.figure.Figure at 0x119674940>"
      ]
     },
     "metadata": {},
     "output_type": "display_data"
    }
   ],
   "source": [
    "results_iq.predictions.plot(label=\"Predictions\", legend = True)\n",
    "results_iq.total_cases.plot(label=\"Actual\", legend = True)\n",
    "plt.title('Iquitos -- model trained just on this city');"
   ]
  },
  {
   "cell_type": "code",
   "execution_count": 509,
   "metadata": {},
   "outputs": [],
   "source": [
    "# this looks great, let's do the same thing for SJ"
   ]
  },
  {
   "cell_type": "markdown",
   "metadata": {},
   "source": [
    "## and now for San Juan"
   ]
  },
  {
   "cell_type": "code",
   "execution_count": 510,
   "metadata": {},
   "outputs": [
    {
     "name": "stdout",
     "output_type": "stream",
     "text": [
      "Fitting 3 folds for each of 240 candidates, totalling 720 fits\n"
     ]
    },
    {
     "name": "stderr",
     "output_type": "stream",
     "text": [
      "[Parallel(n_jobs=2)]: Done 256 tasks      | elapsed:   12.5s\n"
     ]
    },
    {
     "name": "stdout",
     "output_type": "stream",
     "text": [
      "Best Score: 30.580\n",
      "Optimal Parameters:  {'max_depth': 10, 'min_samples_leaf': 1, 'min_samples_split': 5, 'n_estimators': 10}\n"
     ]
    },
    {
     "name": "stderr",
     "output_type": "stream",
     "text": [
      "[Parallel(n_jobs=2)]: Done 720 out of 720 | elapsed:  1.1min finished\n"
     ]
    }
   ],
   "source": [
    "# set sj==1 for San Juan\n",
    "X, y, X_train, X_test, y_train, y_test = prep_x_and_y(df[df.sj==1])\n",
    "\n",
    "sj_best_params = run_grid_search_rf(X, y, X_train, X_test, y_train, y_test)"
   ]
  },
  {
   "cell_type": "code",
   "execution_count": 511,
   "metadata": {},
   "outputs": [
    {
     "name": "stdout",
     "output_type": "stream",
     "text": [
      "Mean absolute error: 20.631517564430467\n"
     ]
    }
   ],
   "source": [
    "# note mean absolute error is higher for san juan (potentially because there's more data points?)\n",
    "calculate_mae_for_train(sj_best_params, X_train, X_test, y_train, y_test)"
   ]
  },
  {
   "cell_type": "code",
   "execution_count": 512,
   "metadata": {},
   "outputs": [
    {
     "name": "stdout",
     "output_type": "stream",
     "text": [
      "Mean absolute error: 7.7419764429065525\n"
     ]
    }
   ],
   "source": [
    "# save model\n",
    "sj_model = fit_final_model(sj_best_params, X, y)"
   ]
  },
  {
   "cell_type": "code",
   "execution_count": 513,
   "metadata": {},
   "outputs": [
    {
     "name": "stderr",
     "output_type": "stream",
     "text": [
      "/Users/braeburn/ds/metis/metisgh/driven_data_dengai/notebooks/../src/models/train_model.py:121: SettingWithCopyWarning: \n",
      "A value is trying to be set on a copy of a slice from a DataFrame.\n",
      "Try using .loc[row_indexer,col_indexer] = value instead\n",
      "\n",
      "See the caveats in the documentation: http://pandas.pydata.org/pandas-docs/stable/indexing.html#indexing-view-versus-copy\n",
      "  return fitted_model\n"
     ]
    }
   ],
   "source": [
    "# generate predictions to plot\n",
    "results_sj = create_results_df(sj_model, df[df.sj==1], X)"
   ]
  },
  {
   "cell_type": "code",
   "execution_count": 514,
   "metadata": {},
   "outputs": [
    {
     "data": {
      "image/png": "[encoded data removed]",
      "text/plain": [
       "<matplotlib.figure.Figure at 0x11a205b38>"
      ]
     },
     "metadata": {},
     "output_type": "display_data"
    }
   ],
   "source": [
    "results_sj.predictions.plot(label=\"Predictions\", legend = True)\n",
    "results_sj.total_cases.plot(label=\"Actual\", legend = True)\n",
    "plt.title('San Juan -- model trained just on this city');"
   ]
  },
  {
   "cell_type": "code",
   "execution_count": 515,
   "metadata": {},
   "outputs": [
    {
     "data": {
      "text/plain": [
       "<matplotlib.axes._subplots.AxesSubplot at 0x11a3a7390>"
      ]
     },
     "execution_count": 515,
     "metadata": {},
     "output_type": "execute_result"
    },
    {
     "data": {
      "image/png": "[encoded data removed]",
      "text/plain": [
       "<matplotlib.figure.Figure at 0x11a3962b0>"
      ]
     },
     "metadata": {},
     "output_type": "display_data"
    }
   ],
   "source": [
    "# let's see what model predictions look like when the model is not retrained on the entire data set\n",
    "final_model = RandomForestRegressor(**sj_best_params)\n",
    "fitted_model = final_model.fit(X_train, y_train)\n",
    "results_df = df[['total_cases', 'sj']][df.sj==1]\n",
    "results_df['predictions'] = fitted_model.predict(X)\n",
    "results_df.predictions.plot(label=\"Predictions\", legend = True)\n",
    "results_df.total_cases.plot(label=\"Actual\", legend = True)\n",
    "\n",
    "# less accurate predictions on final third of data give us a sense of how the model may do on the test data for submission "
   ]
  },
  {
   "cell_type": "code",
   "execution_count": 531,
   "metadata": {},
   "outputs": [],
   "source": [
    "# note: this model is fitting the data well but it needs much more feature engineering to generalize well\n",
    "# it should be interpreted more like a baseline decision tree model"
   ]
  },
  {
   "cell_type": "markdown",
   "metadata": {},
   "source": [
    "### pickle models"
   ]
  },
  {
   "cell_type": "code",
   "execution_count": 516,
   "metadata": {},
   "outputs": [
    {
     "data": {
      "text/plain": [
       "['../models/sj_model.pkl']"
      ]
     },
     "execution_count": 516,
     "metadata": {},
     "output_type": "execute_result"
    }
   ],
   "source": [
    "joblib.dump(sj_model, '../models/sj_model.pkl')"
   ]
  },
  {
   "cell_type": "code",
   "execution_count": 517,
   "metadata": {},
   "outputs": [
    {
     "data": {
      "text/plain": [
       "['../models/iq_model.pkl']"
      ]
     },
     "execution_count": 517,
     "metadata": {},
     "output_type": "execute_result"
    }
   ],
   "source": [
    "joblib.dump(iq_model, '../models/iq_model.pkl')"
   ]
  },
  {
   "cell_type": "code",
   "execution_count": null,
   "metadata": {},
   "outputs": [],
   "source": []
  },
  {
   "cell_type": "markdown",
   "metadata": {},
   "source": [
    "## things to improve the model (a starter list):\n",
    "- significantly more feature engineering is needed to take into account the time dimension \n",
    "- smoothing functions may help\n",
    "- ARIMAX and other time series models (ex. facebook's newly released prophet model) are definitely worth exploring\n",
    "- may also want to allow for using different models for each city (i.e instead of using random forest for each)"
   ]
  },
  {
   "cell_type": "code",
   "execution_count": null,
   "metadata": {},
   "outputs": [],
   "source": []
  }
 ],
 "metadata": {
  "kernelspec": {
   "display_name": "Python 3",
   "language": "python",
   "name": "python3"
  },
  "language_info": {
   "codemirror_mode": {
    "name": "ipython",
    "version": 3
   },
   "file_extension": ".py",
   "mimetype": "text/x-python",
   "name": "python",
   "nbconvert_exporter": "python",
   "pygments_lexer": "ipython3",
   "version": "3.6.4"
  }
 },
 "nbformat": 4,
 "nbformat_minor": 2
}
